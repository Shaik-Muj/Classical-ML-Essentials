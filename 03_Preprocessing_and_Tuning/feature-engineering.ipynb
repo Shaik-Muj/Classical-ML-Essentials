{
 "cells": [
  {
   "cell_type": "markdown",
   "id": "366460f6",
   "metadata": {
    "papermill": {
     "duration": 0.005105,
     "end_time": "2025-10-27T16:04:43.068816",
     "exception": false,
     "start_time": "2025-10-27T16:04:43.063711",
     "status": "completed"
    },
    "tags": []
   },
   "source": [
    "# Feature Engineering and Selection"
   ]
  },
  {
   "cell_type": "markdown",
   "id": "b95dbb50",
   "metadata": {
    "_cell_guid": "b1076dfc-b9ad-4769-8c92-a6c4dae69d19",
    "_uuid": "8f2839f25d086af736a60e9eeb907d3b93b6e0e5",
    "papermill": {
     "duration": 0.003514,
     "end_time": "2025-10-27T16:04:43.076325",
     "exception": false,
     "start_time": "2025-10-27T16:04:43.072811",
     "status": "completed"
    },
    "tags": []
   },
   "source": [
    "#### Setup, Data Loading, and Initial Cleaning"
   ]
  },
  {
   "cell_type": "code",
   "execution_count": 1,
   "id": "7225db41",
   "metadata": {
    "execution": {
     "iopub.execute_input": "2025-10-27T16:04:43.085169Z",
     "iopub.status.busy": "2025-10-27T16:04:43.084808Z",
     "iopub.status.idle": "2025-10-27T16:04:47.152913Z",
     "shell.execute_reply": "2025-10-27T16:04:47.151924Z"
    },
    "papermill": {
     "duration": 4.074441,
     "end_time": "2025-10-27T16:04:47.154722",
     "exception": false,
     "start_time": "2025-10-27T16:04:43.080281",
     "status": "completed"
    },
    "tags": []
   },
   "outputs": [],
   "source": [
    "import numpy as np\n",
    "import pandas as pd\n",
    "from sklearn.feature_selection import RFE, SelectKBest, f_classif\n",
    "from sklearn.linear_model import LogisticRegression\n",
    "from sklearn.preprocessing import StandardScaler, PolynomialFeatures\n",
    "from sklearn.model_selection import train_test_split\n",
    "from sklearn.metrics import accuracy_score\n",
    "import seaborn as sns\n",
    "import matplotlib.pyplot as plt"
   ]
  },
  {
   "cell_type": "code",
   "execution_count": 2,
   "id": "77c8376d",
   "metadata": {
    "execution": {
     "iopub.execute_input": "2025-10-27T16:04:47.164017Z",
     "iopub.status.busy": "2025-10-27T16:04:47.163304Z",
     "iopub.status.idle": "2025-10-27T16:04:47.193243Z",
     "shell.execute_reply": "2025-10-27T16:04:47.192116Z"
    },
    "papermill": {
     "duration": 0.03599,
     "end_time": "2025-10-27T16:04:47.194737",
     "exception": false,
     "start_time": "2025-10-27T16:04:47.158747",
     "status": "completed"
    },
    "tags": []
   },
   "outputs": [],
   "source": [
    "df = pd.read_csv(\"/kaggle/input/titanic/titanic.csv\")"
   ]
  },
  {
   "cell_type": "code",
   "execution_count": 3,
   "id": "4ba74b24",
   "metadata": {
    "execution": {
     "iopub.execute_input": "2025-10-27T16:04:47.203653Z",
     "iopub.status.busy": "2025-10-27T16:04:47.202727Z",
     "iopub.status.idle": "2025-10-27T16:04:47.226800Z",
     "shell.execute_reply": "2025-10-27T16:04:47.225745Z"
    },
    "papermill": {
     "duration": 0.030192,
     "end_time": "2025-10-27T16:04:47.228567",
     "exception": false,
     "start_time": "2025-10-27T16:04:47.198375",
     "status": "completed"
    },
    "tags": []
   },
   "outputs": [
    {
     "name": "stdout",
     "output_type": "stream",
     "text": [
      "Initial Data Snapshot:\n",
      "   Survived  Pclass                                               Name  \\\n",
      "0         0       3                            Braund, Mr. Owen Harris   \n",
      "1         1       1  Cumings, Mrs. John Bradley (Florence Briggs Th...   \n",
      "2         1       3                             Heikkinen, Miss. Laina   \n",
      "3         1       1       Futrelle, Mrs. Jacques Heath (Lily May Peel)   \n",
      "4         0       3                           Allen, Mr. William Henry   \n",
      "\n",
      "      Sex   Age  SibSp  Parch     Fare Cabin Embarked  \n",
      "0    male  22.0      1      0   7.2500   NaN        S  \n",
      "1  female  38.0      1      0  71.2833   C85        C  \n",
      "2  female  26.0      0      0   7.9250   NaN        S  \n",
      "3  female  35.0      1      0  53.1000  C123        S  \n",
      "4    male  35.0      0      0   8.0500   NaN        S  \n"
     ]
    }
   ],
   "source": [
    "df.drop(['PassengerId', 'Ticket'], axis=1, inplace=True)\n",
    "print(\"Initial Data Snapshot:\")\n",
    "print(df.head())"
   ]
  },
  {
   "cell_type": "markdown",
   "id": "3e814a24",
   "metadata": {
    "papermill": {
     "duration": 0.003302,
     "end_time": "2025-10-27T16:04:47.235670",
     "exception": false,
     "start_time": "2025-10-27T16:04:47.232368",
     "status": "completed"
    },
    "tags": []
   },
   "source": [
    "#### Initial Data Cleaning"
   ]
  },
  {
   "cell_type": "code",
   "execution_count": 4,
   "id": "eeac55a1",
   "metadata": {
    "execution": {
     "iopub.execute_input": "2025-10-27T16:04:47.244221Z",
     "iopub.status.busy": "2025-10-27T16:04:47.243674Z",
     "iopub.status.idle": "2025-10-27T16:04:47.252013Z",
     "shell.execute_reply": "2025-10-27T16:04:47.251313Z"
    },
    "papermill": {
     "duration": 0.014153,
     "end_time": "2025-10-27T16:04:47.253349",
     "exception": false,
     "start_time": "2025-10-27T16:04:47.239196",
     "status": "completed"
    },
    "tags": []
   },
   "outputs": [],
   "source": [
    "df.fillna({'Age': df['Age'].median()}, inplace=True)\n",
    "#df['Embarked'].fillna(df['Embarked'].mode()[0], inplace=True)\n",
    "df.fillna({'Embarked' : df['Embarked'].mode()[0]}, inplace=True)"
   ]
  },
  {
   "cell_type": "code",
   "execution_count": 5,
   "id": "5faa7c77",
   "metadata": {
    "execution": {
     "iopub.execute_input": "2025-10-27T16:04:47.262225Z",
     "iopub.status.busy": "2025-10-27T16:04:47.261612Z",
     "iopub.status.idle": "2025-10-27T16:04:47.266728Z",
     "shell.execute_reply": "2025-10-27T16:04:47.265834Z"
    },
    "papermill": {
     "duration": 0.010794,
     "end_time": "2025-10-27T16:04:47.267968",
     "exception": false,
     "start_time": "2025-10-27T16:04:47.257174",
     "status": "completed"
    },
    "tags": []
   },
   "outputs": [],
   "source": [
    "# dropping cabin feature, because most of it's values are missing\n",
    "df.drop('Cabin', axis=1, inplace=True)"
   ]
  },
  {
   "cell_type": "code",
   "execution_count": 6,
   "id": "44158cff",
   "metadata": {
    "execution": {
     "iopub.execute_input": "2025-10-27T16:04:47.276586Z",
     "iopub.status.busy": "2025-10-27T16:04:47.276296Z",
     "iopub.status.idle": "2025-10-27T16:04:47.282552Z",
     "shell.execute_reply": "2025-10-27T16:04:47.281578Z"
    },
    "papermill": {
     "duration": 0.012242,
     "end_time": "2025-10-27T16:04:47.283910",
     "exception": false,
     "start_time": "2025-10-27T16:04:47.271668",
     "status": "completed"
    },
    "tags": []
   },
   "outputs": [
    {
     "name": "stdout",
     "output_type": "stream",
     "text": [
      "\n",
      "Missing values handled and Target separated.\n"
     ]
    }
   ],
   "source": [
    "y = df['Survived']\n",
    "X = df.drop('Survived', axis=1)\n",
    "\n",
    "print(\"\\nMissing values handled and Target separated.\")"
   ]
  },
  {
   "cell_type": "markdown",
   "id": "8b848099",
   "metadata": {
    "papermill": {
     "duration": 0.003609,
     "end_time": "2025-10-27T16:04:47.291494",
     "exception": false,
     "start_time": "2025-10-27T16:04:47.287885",
     "status": "completed"
    },
    "tags": []
   },
   "source": [
    "#### Feature Engineering"
   ]
  },
  {
   "cell_type": "code",
   "execution_count": 7,
   "id": "b1ebef1f",
   "metadata": {
    "execution": {
     "iopub.execute_input": "2025-10-27T16:04:47.301404Z",
     "iopub.status.busy": "2025-10-27T16:04:47.300435Z",
     "iopub.status.idle": "2025-10-27T16:04:47.308181Z",
     "shell.execute_reply": "2025-10-27T16:04:47.307439Z"
    },
    "papermill": {
     "duration": 0.014172,
     "end_time": "2025-10-27T16:04:47.309640",
     "exception": false,
     "start_time": "2025-10-27T16:04:47.295468",
     "status": "completed"
    },
    "tags": []
   },
   "outputs": [],
   "source": [
    "# --- 1. Feature Extraction (Title from Name) ---\n",
    "X['Title'] = X['Name'].str.extract(' ([A-Za-z]+)\\.', expand=False)\n",
    "X.drop('Name', axis=1, inplace=True)"
   ]
  },
  {
   "cell_type": "code",
   "execution_count": 8,
   "id": "18d83290",
   "metadata": {
    "execution": {
     "iopub.execute_input": "2025-10-27T16:04:47.318561Z",
     "iopub.status.busy": "2025-10-27T16:04:47.317712Z",
     "iopub.status.idle": "2025-10-27T16:04:47.327381Z",
     "shell.execute_reply": "2025-10-27T16:04:47.326449Z"
    },
    "papermill": {
     "duration": 0.015491,
     "end_time": "2025-10-27T16:04:47.328859",
     "exception": false,
     "start_time": "2025-10-27T16:04:47.313368",
     "status": "completed"
    },
    "tags": []
   },
   "outputs": [],
   "source": [
    "# Group rare titles\n",
    "rare_titles = ['Lady', 'Countess','Capt', 'Col','Don', 'Dr', 'Major', 'Rev', 'Sir', 'Jonkheer', 'Dona']\n",
    "X['Title'] = X['Title'].replace(rare_titles, 'Rare')\n",
    "X['Title'] = X['Title'].replace('Mlle', 'Miss')\n",
    "X['Title'] = X['Title'].replace('Ms', 'Miss')\n",
    "X['Title'] = X['Title'].replace('Mme', 'Mrs')"
   ]
  },
  {
   "cell_type": "code",
   "execution_count": 9,
   "id": "2731bc3d",
   "metadata": {
    "execution": {
     "iopub.execute_input": "2025-10-27T16:04:47.337345Z",
     "iopub.status.busy": "2025-10-27T16:04:47.337019Z",
     "iopub.status.idle": "2025-10-27T16:04:47.344660Z",
     "shell.execute_reply": "2025-10-27T16:04:47.343906Z"
    },
    "papermill": {
     "duration": 0.013546,
     "end_time": "2025-10-27T16:04:47.346185",
     "exception": false,
     "start_time": "2025-10-27T16:04:47.332639",
     "status": "completed"
    },
    "tags": []
   },
   "outputs": [],
   "source": [
    "# --- 2. Interaction Feature (Family Size) ---\n",
    "X['FamilySize'] = X['SibSp'] + X['Parch'] + 1 # SibSp=Siblings/Spouses, Parch=Parents/Children\n",
    "X['IsAlone'] = 0\n",
    "X.loc[X['FamilySize'] == 1, 'IsAlone'] = 1\n",
    "X.drop(['SibSp', 'Parch'], axis=1, inplace=True)"
   ]
  },
  {
   "cell_type": "code",
   "execution_count": 10,
   "id": "a9aa1865",
   "metadata": {
    "execution": {
     "iopub.execute_input": "2025-10-27T16:04:47.354686Z",
     "iopub.status.busy": "2025-10-27T16:04:47.354094Z",
     "iopub.status.idle": "2025-10-27T16:04:47.366137Z",
     "shell.execute_reply": "2025-10-27T16:04:47.365381Z"
    },
    "papermill": {
     "duration": 0.017801,
     "end_time": "2025-10-27T16:04:47.367605",
     "exception": false,
     "start_time": "2025-10-27T16:04:47.349804",
     "status": "completed"
    },
    "tags": []
   },
   "outputs": [],
   "source": [
    "# --- 3. Binning/Grouping (Age) ---\n",
    "X['AgeGroup'] = pd.cut(X['Age'], bins=[0, 18, 30, 50, 80], labels=['Child', 'Young Adult', 'Adult', 'Senior'])\n",
    "X.drop('Age', axis=1, inplace=True)"
   ]
  },
  {
   "cell_type": "code",
   "execution_count": 11,
   "id": "a058d68e",
   "metadata": {
    "execution": {
     "iopub.execute_input": "2025-10-27T16:04:47.375970Z",
     "iopub.status.busy": "2025-10-27T16:04:47.375691Z",
     "iopub.status.idle": "2025-10-27T16:04:47.417639Z",
     "shell.execute_reply": "2025-10-27T16:04:47.416536Z"
    },
    "papermill": {
     "duration": 0.04783,
     "end_time": "2025-10-27T16:04:47.419189",
     "exception": false,
     "start_time": "2025-10-27T16:04:47.371359",
     "status": "completed"
    },
    "tags": []
   },
   "outputs": [
    {
     "name": "stdout",
     "output_type": "stream",
     "text": [
      "\n",
      "Engineered Features Snapshot:\n",
      "      Fare  FamilySize  IsAlone  Pclass_2  Pclass_3  Sex_male  Embarked_Q  \\\n",
      "0   7.2500           2        0     False      True      True       False   \n",
      "1  71.2833           2        0     False     False     False       False   \n",
      "2   7.9250           1        1     False      True     False       False   \n",
      "3  53.1000           2        0     False     False     False       False   \n",
      "4   8.0500           1        1     False      True      True       False   \n",
      "\n",
      "   Embarked_S  Title_Miss  Title_Mr  Title_Mrs  Title_Rare  \\\n",
      "0        True       False      True      False       False   \n",
      "1       False       False     False       True       False   \n",
      "2        True        True     False      False       False   \n",
      "3        True       False     False       True       False   \n",
      "4        True       False      True      False       False   \n",
      "\n",
      "   AgeGroup_Young Adult  AgeGroup_Adult  AgeGroup_Senior  \n",
      "0                  True           False            False  \n",
      "1                 False            True            False  \n",
      "2                  True           False            False  \n",
      "3                 False            True            False  \n",
      "4                 False            True            False  \n",
      "Total features after engineering: 15\n"
     ]
    }
   ],
   "source": [
    "# --- 4. Encoding ---\n",
    "X_processed = pd.get_dummies(X, columns=['Pclass', 'Sex', 'Embarked', 'Title', 'AgeGroup'], drop_first=True)\n",
    "\n",
    "print(\"\\nEngineered Features Snapshot:\")\n",
    "print(X_processed.head())\n",
    "print(f\"Total features after engineering: {X_processed.shape[1]}\")\n",
    "\n",
    "# Split and Scale for Feature Selection\n",
    "X_train, X_test, y_train, y_test = train_test_split(\n",
    "    X_processed, y, test_size=0.3, random_state=42\n",
    ")\n",
    "scaler = StandardScaler()\n",
    "X_train_scaled = scaler.fit_transform(X_train)\n",
    "X_test_scaled = scaler.transform(X_test)\n",
    "X_train_scaled_df = pd.DataFrame(X_train_scaled, columns=X_processed.columns)\n",
    "X_test_scaled_df = pd.DataFrame(X_test_scaled, columns=X_processed.columns)"
   ]
  },
  {
   "cell_type": "markdown",
   "id": "df9179ac",
   "metadata": {
    "papermill": {
     "duration": 0.003383,
     "end_time": "2025-10-27T16:04:47.426589",
     "exception": false,
     "start_time": "2025-10-27T16:04:47.423206",
     "status": "completed"
    },
    "tags": []
   },
   "source": [
    "#### Feature Selection - Filter Method (SelectKBest)"
   ]
  },
  {
   "cell_type": "code",
   "execution_count": 12,
   "id": "798c98bb",
   "metadata": {
    "execution": {
     "iopub.execute_input": "2025-10-27T16:04:47.435564Z",
     "iopub.status.busy": "2025-10-27T16:04:47.434605Z",
     "iopub.status.idle": "2025-10-27T16:04:47.447129Z",
     "shell.execute_reply": "2025-10-27T16:04:47.446121Z"
    },
    "papermill": {
     "duration": 0.018525,
     "end_time": "2025-10-27T16:04:47.448635",
     "exception": false,
     "start_time": "2025-10-27T16:04:47.430110",
     "status": "completed"
    },
    "tags": []
   },
   "outputs": [
    {
     "name": "stdout",
     "output_type": "stream",
     "text": [
      "--- Filter Method: SelectKBest (Top 10) ---\n",
      "Selected Features based on F-Value:\n",
      "['Title_Mr', 'Sex_male', 'Title_Mrs', 'Title_Miss', 'Pclass_3', 'Fare', 'IsAlone', 'Embarked_S', 'AgeGroup_Young Adult', 'Pclass_2']\n"
     ]
    }
   ],
   "source": [
    "k_best_selector = SelectKBest(score_func=f_classif, k=10) \n",
    "k_best_selector.fit(X_train_scaled_df, y_train)\n",
    "\n",
    "# Get the scores and feature names\n",
    "feature_scores = pd.Series(k_best_selector.scores_, index=X_train_scaled_df.columns)\n",
    "selected_k_best_features = feature_scores.nlargest(10).index.tolist()\n",
    "\n",
    "print(\"--- Filter Method: SelectKBest (Top 10) ---\")\n",
    "print(\"Selected Features based on F-Value:\")\n",
    "print(selected_k_best_features)"
   ]
  },
  {
   "cell_type": "code",
   "execution_count": 13,
   "id": "9ab7eaa4",
   "metadata": {
    "execution": {
     "iopub.execute_input": "2025-10-27T16:04:47.457545Z",
     "iopub.status.busy": "2025-10-27T16:04:47.456959Z",
     "iopub.status.idle": "2025-10-27T16:04:47.801032Z",
     "shell.execute_reply": "2025-10-27T16:04:47.800173Z"
    },
    "papermill": {
     "duration": 0.35101,
     "end_time": "2025-10-27T16:04:47.803544",
     "exception": false,
     "start_time": "2025-10-27T16:04:47.452534",
     "status": "completed"
    },
    "tags": []
   },
   "outputs": [
    {
     "name": "stdout",
     "output_type": "stream",
     "text": [
      "Accuracy (All Features): 0.8246\n",
      "Accuracy (SelectKBest Features): 0.7985\n"
     ]
    }
   ],
   "source": [
    "# Compare models with all features vs. KBest features\n",
    "logreg_all = LogisticRegression(random_state=42).fit(X_train_scaled, y_train)\n",
    "logreg_kbest = LogisticRegression(random_state=42).fit(\n",
    "    X_train_scaled_df[selected_k_best_features], y_train\n",
    ")\n",
    "\n",
    "acc_all = accuracy_score(y_test, logreg_all.predict(X_test_scaled))\n",
    "acc_kbest = accuracy_score(y_test, logreg_kbest.predict(X_test_scaled_df[selected_k_best_features]))\n",
    "\n",
    "print(f\"Accuracy (All Features): {acc_all:.4f}\")\n",
    "print(f\"Accuracy (SelectKBest Features): {acc_kbest:.4f}\")"
   ]
  },
  {
   "cell_type": "markdown",
   "id": "4add542d",
   "metadata": {
    "papermill": {
     "duration": 0.005805,
     "end_time": "2025-10-27T16:04:47.815392",
     "exception": false,
     "start_time": "2025-10-27T16:04:47.809587",
     "status": "completed"
    },
    "tags": []
   },
   "source": [
    "#### Feature Selection - Wrapper Method (RFE)"
   ]
  },
  {
   "cell_type": "code",
   "execution_count": 14,
   "id": "e2bb68da",
   "metadata": {
    "execution": {
     "iopub.execute_input": "2025-10-27T16:04:47.828971Z",
     "iopub.status.busy": "2025-10-27T16:04:47.828633Z",
     "iopub.status.idle": "2025-10-27T16:04:48.839662Z",
     "shell.execute_reply": "2025-10-27T16:04:48.838773Z"
    },
    "papermill": {
     "duration": 1.019921,
     "end_time": "2025-10-27T16:04:48.841357",
     "exception": false,
     "start_time": "2025-10-27T16:04:47.821436",
     "status": "completed"
    },
    "tags": []
   },
   "outputs": [
    {
     "name": "stdout",
     "output_type": "stream",
     "text": [
      "\n",
      "--- Wrapper Method: Recursive Feature Elimination (Top 10) ---\n",
      "Selected Features based on RFE:\n",
      "['Fare', 'FamilySize', 'IsAlone', 'Pclass_3', 'Sex_male', 'Embarked_S', 'Title_Miss', 'Title_Mr', 'Title_Mrs', 'Title_Rare']\n",
      "Accuracy (RFE Selected Features): 0.8172\n"
     ]
    }
   ],
   "source": [
    "logreg_rfe = LogisticRegression(random_state=42)\n",
    "\n",
    "rfe_selector = RFE(estimator=logreg_rfe, n_features_to_select=10, step=1)\n",
    "rfe_selector.fit(X_train_scaled, y_train)\n",
    "\n",
    "selected_rfe_mask = rfe_selector.support_\n",
    "selected_rfe_features = X_processed.columns[selected_rfe_mask].tolist()\n",
    "\n",
    "print(\"\\n--- Wrapper Method: Recursive Feature Elimination (Top 10) ---\")\n",
    "print(\"Selected Features based on RFE:\")\n",
    "print(selected_rfe_features)\n",
    "\n",
    "# Final comparison using the RFE-selected features\n",
    "logreg_rfe_final = LogisticRegression(random_state=42).fit(\n",
    "    X_train_scaled_df[selected_rfe_features], y_train\n",
    ")\n",
    "\n",
    "acc_rfe = accuracy_score(y_test, logreg_rfe_final.predict(X_test_scaled_df[selected_rfe_features]))\n",
    "\n",
    "print(f\"Accuracy (RFE Selected Features): {acc_rfe:.4f}\")"
   ]
  },
  {
   "cell_type": "markdown",
   "id": "371e1296",
   "metadata": {
    "papermill": {
     "duration": 0.006829,
     "end_time": "2025-10-27T16:04:48.854750",
     "exception": false,
     "start_time": "2025-10-27T16:04:48.847921",
     "status": "completed"
    },
    "tags": []
   },
   "source": [
    "## $\\text{RFE}$ model offers a much simpler model with 50% fewer features for a marginal (less than 1%) trade-off in accuracy, making it a better choice for production due to maintenance and interpretability."
   ]
  }
 ],
 "metadata": {
  "kaggle": {
   "accelerator": "none",
   "dataSources": [
    {
     "datasetId": 5165831,
     "sourceId": 8628187,
     "sourceType": "datasetVersion"
    }
   ],
   "dockerImageVersionId": 31153,
   "isGpuEnabled": false,
   "isInternetEnabled": true,
   "language": "python",
   "sourceType": "notebook"
  },
  "kernelspec": {
   "display_name": "Python 3",
   "language": "python",
   "name": "python3"
  },
  "language_info": {
   "codemirror_mode": {
    "name": "ipython",
    "version": 3
   },
   "file_extension": ".py",
   "mimetype": "text/x-python",
   "name": "python",
   "nbconvert_exporter": "python",
   "pygments_lexer": "ipython3",
   "version": "3.11.13"
  },
  "papermill": {
   "default_parameters": {},
   "duration": 11.116838,
   "end_time": "2025-10-27T16:04:49.581554",
   "environment_variables": {},
   "exception": null,
   "input_path": "__notebook__.ipynb",
   "output_path": "__notebook__.ipynb",
   "parameters": {},
   "start_time": "2025-10-27T16:04:38.464716",
   "version": "2.6.0"
  }
 },
 "nbformat": 4,
 "nbformat_minor": 5
}
