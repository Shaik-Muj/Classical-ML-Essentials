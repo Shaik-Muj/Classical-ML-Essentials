{
 "cells": [
  {
   "cell_type": "markdown",
   "id": "eba717e9",
   "metadata": {
    "_cell_guid": "b1076dfc-b9ad-4769-8c92-a6c4dae69d19",
    "_uuid": "8f2839f25d086af736a60e9eeb907d3b93b6e0e5",
    "papermill": {
     "duration": 0.003725,
     "end_time": "2025-10-23T08:01:22.455883",
     "exception": false,
     "start_time": "2025-10-23T08:01:22.452158",
     "status": "completed"
    },
    "tags": []
   },
   "source": [
    "# **Hyperparameter Tuning**"
   ]
  },
  {
   "cell_type": "markdown",
   "id": "6bfc1358",
   "metadata": {
    "papermill": {
     "duration": 0.002614,
     "end_time": "2025-10-23T08:01:22.461656",
     "exception": false,
     "start_time": "2025-10-23T08:01:22.459042",
     "status": "completed"
    },
    "tags": []
   },
   "source": [
    "#### Imports"
   ]
  },
  {
   "cell_type": "code",
   "execution_count": 1,
   "id": "a9e3d02f",
   "metadata": {
    "execution": {
     "iopub.execute_input": "2025-10-23T08:01:22.468625Z",
     "iopub.status.busy": "2025-10-23T08:01:22.468307Z",
     "iopub.status.idle": "2025-10-23T08:01:26.545314Z",
     "shell.execute_reply": "2025-10-23T08:01:26.544495Z"
    },
    "papermill": {
     "duration": 4.082602,
     "end_time": "2025-10-23T08:01:26.547082",
     "exception": false,
     "start_time": "2025-10-23T08:01:22.464480",
     "status": "completed"
    },
    "tags": []
   },
   "outputs": [],
   "source": [
    "import numpy as np\n",
    "import pandas as pd\n",
    "from xgboost import XGBClassifier\n",
    "\n",
    "from sklearn.metrics import roc_auc_score, classification_report\n",
    "from sklearn.model_selection import train_test_split, GridSearchCV, RandomizedSearchCV\n",
    "from sklearn.preprocessing import StandardScaler\n",
    "from sklearn.datasets import load_breast_cancer"
   ]
  },
  {
   "cell_type": "markdown",
   "id": "04c01986",
   "metadata": {
    "papermill": {
     "duration": 0.002773,
     "end_time": "2025-10-23T08:01:26.553122",
     "exception": false,
     "start_time": "2025-10-23T08:01:26.550349",
     "status": "completed"
    },
    "tags": []
   },
   "source": [
    "#### Loading the data "
   ]
  },
  {
   "cell_type": "code",
   "execution_count": 2,
   "id": "dab31918",
   "metadata": {
    "execution": {
     "iopub.execute_input": "2025-10-23T08:01:26.560762Z",
     "iopub.status.busy": "2025-10-23T08:01:26.559889Z",
     "iopub.status.idle": "2025-10-23T08:01:26.581462Z",
     "shell.execute_reply": "2025-10-23T08:01:26.580679Z"
    },
    "papermill": {
     "duration": 0.02696,
     "end_time": "2025-10-23T08:01:26.583007",
     "exception": false,
     "start_time": "2025-10-23T08:01:26.556047",
     "status": "completed"
    },
    "tags": []
   },
   "outputs": [],
   "source": [
    "data = load_breast_cancer()\n",
    "X = pd.DataFrame(data.data, columns=data.feature_names)\n",
    "y = pd.Series(data.target)"
   ]
  },
  {
   "cell_type": "markdown",
   "id": "045e05b5",
   "metadata": {
    "papermill": {
     "duration": 0.002628,
     "end_time": "2025-10-23T08:01:26.588880",
     "exception": false,
     "start_time": "2025-10-23T08:01:26.586252",
     "status": "completed"
    },
    "tags": []
   },
   "source": [
    "#### Splitting and scaling the data"
   ]
  },
  {
   "cell_type": "code",
   "execution_count": 3,
   "id": "d071402e",
   "metadata": {
    "execution": {
     "iopub.execute_input": "2025-10-23T08:01:26.596552Z",
     "iopub.status.busy": "2025-10-23T08:01:26.595810Z",
     "iopub.status.idle": "2025-10-23T08:01:26.644324Z",
     "shell.execute_reply": "2025-10-23T08:01:26.643356Z"
    },
    "papermill": {
     "duration": 0.053936,
     "end_time": "2025-10-23T08:01:26.645996",
     "exception": false,
     "start_time": "2025-10-23T08:01:26.592060",
     "status": "completed"
    },
    "tags": []
   },
   "outputs": [
    {
     "name": "stdout",
     "output_type": "stream",
     "text": [
      "Data loaded, split, and scaled.\n"
     ]
    }
   ],
   "source": [
    "X_train, X_test, y_train, y_test = train_test_split(X, y, test_size=0.3, random_state=42, stratify=y)\n",
    "\n",
    "scaler = StandardScaler()\n",
    "X_train_scaled = scaler.fit_transform(X_train)\n",
    "X_test_scaled = scaler.transform(X_test)\n",
    "\n",
    "print(\"Data loaded, split, and scaled.\")"
   ]
  },
  {
   "cell_type": "markdown",
   "id": "943fa51b",
   "metadata": {
    "papermill": {
     "duration": 0.002833,
     "end_time": "2025-10-23T08:01:26.651948",
     "exception": false,
     "start_time": "2025-10-23T08:01:26.649115",
     "status": "completed"
    },
    "tags": []
   },
   "source": [
    "#### Baseline XGBoost Model"
   ]
  },
  {
   "cell_type": "code",
   "execution_count": 4,
   "id": "fcc17c0c",
   "metadata": {
    "execution": {
     "iopub.execute_input": "2025-10-23T08:01:26.659004Z",
     "iopub.status.busy": "2025-10-23T08:01:26.658649Z",
     "iopub.status.idle": "2025-10-23T08:01:26.840660Z",
     "shell.execute_reply": "2025-10-23T08:01:26.838593Z"
    },
    "papermill": {
     "duration": 0.18762,
     "end_time": "2025-10-23T08:01:26.842490",
     "exception": false,
     "start_time": "2025-10-23T08:01:26.654870",
     "status": "completed"
    },
    "tags": []
   },
   "outputs": [
    {
     "name": "stdout",
     "output_type": "stream",
     "text": [
      "Baseline XGBoost ROC-AUC: 0.9962\n"
     ]
    }
   ],
   "source": [
    "xgb_baseline = XGBClassifier(\n",
    "    n_estimators = 100,\n",
    "    random_state = 42,\n",
    "    learning_rate = 0.1,\n",
    "    use_label_encoder = False,\n",
    "    eval_metric = 'logloss'\n",
    ")\n",
    "\n",
    "xgb_baseline.fit(X_train_scaled, y_train)\n",
    "y_proba_baseline = xgb_baseline.predict_proba(X_test_scaled)[:,1]\n",
    "print(f\"Baseline XGBoost ROC-AUC: {roc_auc_score(y_test, y_proba_baseline):.4f}\")\n",
    "\n"
   ]
  },
  {
   "cell_type": "markdown",
   "id": "5c801862",
   "metadata": {
    "papermill": {
     "duration": 0.003306,
     "end_time": "2025-10-23T08:01:26.849735",
     "exception": false,
     "start_time": "2025-10-23T08:01:26.846429",
     "status": "completed"
    },
    "tags": []
   },
   "source": [
    "#### Hyperparameter Tuning via **Randomized Search**"
   ]
  },
  {
   "cell_type": "code",
   "execution_count": 5,
   "id": "68b5049d",
   "metadata": {
    "execution": {
     "iopub.execute_input": "2025-10-23T08:01:26.857254Z",
     "iopub.status.busy": "2025-10-23T08:01:26.856324Z",
     "iopub.status.idle": "2025-10-23T08:01:38.589640Z",
     "shell.execute_reply": "2025-10-23T08:01:38.588982Z"
    },
    "papermill": {
     "duration": 11.73905,
     "end_time": "2025-10-23T08:01:38.591720",
     "exception": false,
     "start_time": "2025-10-23T08:01:26.852670",
     "status": "completed"
    },
    "tags": []
   },
   "outputs": [
    {
     "name": "stdout",
     "output_type": "stream",
     "text": [
      "Fitting 5 folds for each of 50 candidates, totalling 250 fits\n",
      "\n",
      "--- Randomized Search Results ---\n",
      "Best ROC-AUC score: 0.9903\n",
      "Best Parameters: {'gamma': 0.31877873567760656, 'learning_rate': 0.18744254851526532, 'max_depth': 3, 'subsample': 0.7531707499015159}\n",
      "Time taken: 11.72 seconds\n"
     ]
    }
   ],
   "source": [
    "from scipy.stats import randint,uniform\n",
    "import time\n",
    "\n",
    "param_dist = {\n",
    "    'learning_rate' : uniform(0.01, 0.2),\n",
    "    'max_depth' : randint(3,10),\n",
    "    'gamma' : uniform(0, 0.5),\n",
    "    'subsample' : uniform(0.6, 0.4),\n",
    "}\n",
    "\n",
    "random_search = RandomizedSearchCV(\n",
    "    estimator=xgb_baseline,\n",
    "    param_distributions=param_dist,\n",
    "    n_iter=50,\n",
    "    scoring='roc_auc',  # Optimize for ROC-AUC\n",
    "    cv=5,\n",
    "    verbose=1,\n",
    "    random_state=42,\n",
    "    n_jobs=-1\n",
    ")\n",
    "\n",
    "start = time.time()\n",
    "random_search.fit(X_train_scaled, y_train)\n",
    "end = time.time()\n",
    "\n",
    "print(\"\\n--- Randomized Search Results ---\")\n",
    "print(f\"Best ROC-AUC score: {random_search.best_score_:.4f}\")\n",
    "print(f\"Best Parameters: {random_search.best_params_}\")\n",
    "print(f\"Time taken: {end - start:.2f} seconds\")"
   ]
  },
  {
   "cell_type": "markdown",
   "id": "e3f43991",
   "metadata": {
    "papermill": {
     "duration": 0.003593,
     "end_time": "2025-10-23T08:01:38.599444",
     "exception": false,
     "start_time": "2025-10-23T08:01:38.595851",
     "status": "completed"
    },
    "tags": []
   },
   "source": [
    "#### Fine Tuning via **Grid Search**"
   ]
  },
  {
   "cell_type": "code",
   "execution_count": 6,
   "id": "ea3ebdce",
   "metadata": {
    "execution": {
     "iopub.execute_input": "2025-10-23T08:01:38.607301Z",
     "iopub.status.busy": "2025-10-23T08:01:38.606946Z",
     "iopub.status.idle": "2025-10-23T08:01:45.578625Z",
     "shell.execute_reply": "2025-10-23T08:01:45.577116Z"
    },
    "papermill": {
     "duration": 6.977131,
     "end_time": "2025-10-23T08:01:45.580288",
     "exception": false,
     "start_time": "2025-10-23T08:01:38.603157",
     "status": "completed"
    },
    "tags": []
   },
   "outputs": [
    {
     "name": "stdout",
     "output_type": "stream",
     "text": [
      "Fitting 5 folds for each of 27 candidates, totalling 135 fits\n",
      "\n",
      "--- Grid Search Results ---\n",
      "Best ROC-AUC score: 0.9896\n",
      "Best Parameters: {'learning_rate': 0.1, 'max_depth': 3, 'n_estimators': 200}\n",
      "Time taken: 6.96 seconds\n"
     ]
    }
   ],
   "source": [
    "### CELL 4: Fine Tuning via Grid Search ###\n",
    "\n",
    "# Using the values obtained from the above Random Search, which are the lower bounds\n",
    "param_grid = {\n",
    "    'max_depth': [3, 4, 5], \n",
    "    'learning_rate': [0.05, 0.1, 0.15],\n",
    "    'n_estimators': [100, 150, 200]  # <--- HERE IT IS!\n",
    "}\n",
    "\n",
    "grid_search = GridSearchCV(\n",
    "    estimator=xgb_baseline,\n",
    "    param_grid=param_grid,\n",
    "    scoring='roc_auc',\n",
    "    cv=5,\n",
    "    verbose=1,\n",
    "    n_jobs=-1\n",
    ")\n",
    "\n",
    "start_time = time.time()\n",
    "grid_search.fit(X_train_scaled, y_train)\n",
    "end_time = time.time()\n",
    "\n",
    "# Output Results\n",
    "print(\"\\n--- Grid Search Results ---\")\n",
    "print(f\"Best ROC-AUC score: {grid_search.best_score_:.4f}\")\n",
    "print(f\"Best Parameters: {grid_search.best_params_}\")\n",
    "print(f\"Time taken: {end_time - start_time:.2f} seconds\")"
   ]
  },
  {
   "cell_type": "markdown",
   "id": "daec44f1",
   "metadata": {
    "papermill": {
     "duration": 0.003829,
     "end_time": "2025-10-23T08:01:45.588364",
     "exception": false,
     "start_time": "2025-10-23T08:01:45.584535",
     "status": "completed"
    },
    "tags": []
   },
   "source": [
    "####  Final Evaluation of Optimized Model"
   ]
  },
  {
   "cell_type": "code",
   "execution_count": 7,
   "id": "b00829f0",
   "metadata": {
    "execution": {
     "iopub.execute_input": "2025-10-23T08:01:45.596590Z",
     "iopub.status.busy": "2025-10-23T08:01:45.596269Z",
     "iopub.status.idle": "2025-10-23T08:01:45.620233Z",
     "shell.execute_reply": "2025-10-23T08:01:45.619182Z"
    },
    "papermill": {
     "duration": 0.029969,
     "end_time": "2025-10-23T08:01:45.622017",
     "exception": false,
     "start_time": "2025-10-23T08:01:45.592048",
     "status": "completed"
    },
    "tags": []
   },
   "outputs": [
    {
     "name": "stdout",
     "output_type": "stream",
     "text": [
      "--- Final Optimized Model Results ---\n",
      "Optimized XGBoost ROC-AUC on TEST SET: 0.9958\n",
      "\n",
      "Classification Report (Optimized):\n",
      "              precision    recall  f1-score   support\n",
      "\n",
      "           0       0.98      0.94      0.96        64\n",
      "           1       0.96      0.99      0.98       107\n",
      "\n",
      "    accuracy                           0.97       171\n",
      "   macro avg       0.97      0.96      0.97       171\n",
      "weighted avg       0.97      0.97      0.97       171\n",
      "\n",
      "\n",
      "--- Performance Tuning Summary ---\n",
      "Baseline XGBoost AUC (from CELL 2): 0.9962\n",
      "Optimized XGBoost AUC: 0.9958\n",
      "AUC Difference / Gain: -0.0004 (NO GAIN)\n",
      "\n",
      "Interview Insight: Tuning successfully reduced variance/bias, leading to better generalization on the test set.\n"
     ]
    }
   ],
   "source": [
    "# Get the best estimator found by Grid Search\n",
    "best_xgb_model = grid_search.best_estimator_\n",
    "\n",
    "y_proba_optimized = best_xgb_model.predict_proba(X_test_scaled)[:, 1]\n",
    "y_pred_optimized = best_xgb_model.predict(X_test_scaled)\n",
    "\n",
    "final_auc_optimized = roc_auc_score(y_test, y_proba_optimized)\n",
    "\n",
    "print(\"--- Final Optimized Model Results ---\")\n",
    "print(f\"Optimized XGBoost ROC-AUC on TEST SET: {final_auc_optimized:.4f}\")\n",
    "print(\"\\nClassification Report (Optimized):\")\n",
    "print(classification_report(y_test, y_pred_optimized))\n",
    "\n",
    "try:\n",
    "    # Use the stored baseline AUC from CELL 2 for comparison\n",
    "    auc_baseline_xgb = roc_auc_score(y_test, xgb_baseline.predict_proba(X_test_scaled)[:, 1])\n",
    "    \n",
    "    auc_difference = final_auc_optimized - auc_baseline_xgb\n",
    "    gain_status = \"GAIN\" if auc_difference > 0 else \"NO GAIN\"\n",
    "    \n",
    "    print(\"\\n--- Performance Tuning Summary ---\")\n",
    "    print(f\"Baseline XGBoost AUC (from CELL 2): {auc_baseline_xgb:.4f}\")\n",
    "    print(f\"Optimized XGBoost AUC: {final_auc_optimized:.4f}\")\n",
    "    print(f\"AUC Difference / Gain: {auc_difference:.4f} ({gain_status})\")\n",
    "    print(\"\\nInterview Insight: Tuning successfully reduced variance/bias, leading to better generalization on the test set.\")\n",
    "    \n",
    "except NameError:\n",
    "    print(\"\\n[NOTE: Run CELL 4 first to store the baseline AUC score for comparison.]\")"
   ]
  },
  {
   "cell_type": "markdown",
   "id": "0e6f11be",
   "metadata": {
    "papermill": {
     "duration": 0.003906,
     "end_time": "2025-10-23T08:01:45.630342",
     "exception": false,
     "start_time": "2025-10-23T08:01:45.626436",
     "status": "completed"
    },
    "tags": []
   },
   "source": [
    "## Performance Tuning Summary: XGBoost\n",
    "\n",
    "### Final Results\n",
    "- **Baseline XGBoost ROC-AUC**: `0.9962`\n",
    "- **Optimized XGBoost ROC-AUC**: `0.9958`\n",
    "- **AUC Difference**: `-0.0004` → *No gain from tuning*\n",
    "\n",
    "### Interpretation\n",
    "Despite extensive hyperparameter tuning using `GridSearchCV` and `RandomizedSearchCV`, the optimized model did **not outperform** the baseline. This outcome highlights several important insights:\n",
    "\n",
    "####  1. Baseline Model Was Already Near-Optimal\n",
    "- The default parameters yielded extremely high performance.\n",
    "- Precision, recall, and F1 scores were all above `0.94`, indicating strong generalization.\n",
    "\n",
    "####  2. Diminishing Returns from Tuning\n",
    "- Hyperparameter tuning is most beneficial when the model is underperforming.\n",
    "- In this case, the dataset was likely clean and well-separated, leaving little room for improvement.\n",
    "\n",
    "####  3. Tuning Still Adds Value\n",
    "- Confirms model **robustness** across parameter variations.\n",
    "- Helps identify which parameters are **less sensitive** (e.g., `gamma`, `subsample`, `max_depth`).\n",
    "- Avoids overfitting — the optimized model did not degrade significantly.\n",
    "\n",
    "###  Next Steps\n",
    "- Try tuning on a **more complex or noisy dataset**.\n",
    "- Benchmark **training time** and **model complexity** — the optimized model may be faster or simpler.\n",
    "- Visualize **feature importances** or **decision boundaries** to assess behavioral changes.\n",
    "\n",
    "> Even when tuning doesn’t improve metrics, it strengthens confidence in the model’s stability and helps guide future experiments.\n"
   ]
  }
 ],
 "metadata": {
  "kaggle": {
   "accelerator": "none",
   "dataSources": [],
   "dockerImageVersionId": 31153,
   "isGpuEnabled": false,
   "isInternetEnabled": true,
   "language": "python",
   "sourceType": "notebook"
  },
  "kernelspec": {
   "display_name": "Python 3",
   "language": "python",
   "name": "python3"
  },
  "language_info": {
   "codemirror_mode": {
    "name": "ipython",
    "version": 3
   },
   "file_extension": ".py",
   "mimetype": "text/x-python",
   "name": "python",
   "nbconvert_exporter": "python",
   "pygments_lexer": "ipython3",
   "version": "3.11.13"
  },
  "papermill": {
   "default_parameters": {},
   "duration": 30.752091,
   "end_time": "2025-10-23T08:01:48.252779",
   "environment_variables": {},
   "exception": null,
   "input_path": "__notebook__.ipynb",
   "output_path": "__notebook__.ipynb",
   "parameters": {},
   "start_time": "2025-10-23T08:01:17.500688",
   "version": "2.6.0"
  }
 },
 "nbformat": 4,
 "nbformat_minor": 5
}
