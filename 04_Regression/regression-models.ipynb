{
 "cells": [
  {
   "cell_type": "markdown",
   "id": "0f49ff41",
   "metadata": {
    "_cell_guid": "b1076dfc-b9ad-4769-8c92-a6c4dae69d19",
    "_uuid": "8f2839f25d086af736a60e9eeb907d3b93b6e0e5",
    "papermill": {
     "duration": 0.003298,
     "end_time": "2025-10-29T13:22:43.335083",
     "exception": false,
     "start_time": "2025-10-29T13:22:43.331785",
     "status": "completed"
    },
    "tags": []
   },
   "source": [
    "# **Regression Models**"
   ]
  },
  {
   "cell_type": "markdown",
   "id": "2d434dbe",
   "metadata": {
    "papermill": {
     "duration": 0.002411,
     "end_time": "2025-10-29T13:22:43.340376",
     "exception": false,
     "start_time": "2025-10-29T13:22:43.337965",
     "status": "completed"
    },
    "tags": []
   },
   "source": [
    "#### Imports "
   ]
  },
  {
   "cell_type": "code",
   "execution_count": 1,
   "id": "b7811734",
   "metadata": {
    "execution": {
     "iopub.execute_input": "2025-10-29T13:22:43.346852Z",
     "iopub.status.busy": "2025-10-29T13:22:43.346498Z",
     "iopub.status.idle": "2025-10-29T13:22:47.914591Z",
     "shell.execute_reply": "2025-10-29T13:22:47.913729Z"
    },
    "papermill": {
     "duration": 4.573392,
     "end_time": "2025-10-29T13:22:47.916345",
     "exception": false,
     "start_time": "2025-10-29T13:22:43.342953",
     "status": "completed"
    },
    "tags": []
   },
   "outputs": [],
   "source": [
    "import numpy as np\n",
    "import pandas as pd\n",
    "from sklearn.datasets import fetch_california_housing # Using a modern, well-behaved dataset\n",
    "from sklearn.model_selection import train_test_split\n",
    "from sklearn.preprocessing import StandardScaler\n",
    "from sklearn.linear_model import LinearRegression, Ridge, Lasso\n",
    "from sklearn.ensemble import RandomForestRegressor\n",
    "from xgboost import XGBRegressor\n",
    "from sklearn.metrics import mean_squared_error, r2_score\n",
    "\n"
   ]
  },
  {
   "cell_type": "markdown",
   "id": "a7d5bc25",
   "metadata": {
    "papermill": {
     "duration": 0.002519,
     "end_time": "2025-10-29T13:22:47.921814",
     "exception": false,
     "start_time": "2025-10-29T13:22:47.919295",
     "status": "completed"
    },
    "tags": []
   },
   "source": [
    "#### Data Loading"
   ]
  },
  {
   "cell_type": "code",
   "execution_count": 2,
   "id": "f30dc8ed",
   "metadata": {
    "execution": {
     "iopub.execute_input": "2025-10-29T13:22:47.928557Z",
     "iopub.status.busy": "2025-10-29T13:22:47.928103Z",
     "iopub.status.idle": "2025-10-29T13:22:48.411870Z",
     "shell.execute_reply": "2025-10-29T13:22:48.410553Z"
    },
    "papermill": {
     "duration": 0.489018,
     "end_time": "2025-10-29T13:22:48.413464",
     "exception": false,
     "start_time": "2025-10-29T13:22:47.924446",
     "status": "completed"
    },
    "tags": []
   },
   "outputs": [
    {
     "name": "stdout",
     "output_type": "stream",
     "text": [
      "Regression Data Loaded. Predicting Median House Value (Target: MedHouseVal).\n"
     ]
    }
   ],
   "source": [
    "data = fetch_california_housing(as_frame=True)\n",
    "X = data.data\n",
    "y = data.target\n",
    "\n",
    "print(f\"Regression Data Loaded. Predicting Median House Value (Target: {y.name}).\")"
   ]
  },
  {
   "cell_type": "markdown",
   "id": "5d0f9a93",
   "metadata": {
    "papermill": {
     "duration": 0.002681,
     "end_time": "2025-10-29T13:22:48.419310",
     "exception": false,
     "start_time": "2025-10-29T13:22:48.416629",
     "status": "completed"
    },
    "tags": []
   },
   "source": [
    "#### Splitting and Scaling data"
   ]
  },
  {
   "cell_type": "code",
   "execution_count": 3,
   "id": "fd6f4ac8",
   "metadata": {
    "execution": {
     "iopub.execute_input": "2025-10-29T13:22:48.426413Z",
     "iopub.status.busy": "2025-10-29T13:22:48.426015Z",
     "iopub.status.idle": "2025-10-29T13:22:48.451718Z",
     "shell.execute_reply": "2025-10-29T13:22:48.450545Z"
    },
    "papermill": {
     "duration": 0.031463,
     "end_time": "2025-10-29T13:22:48.453604",
     "exception": false,
     "start_time": "2025-10-29T13:22:48.422141",
     "status": "completed"
    },
    "tags": []
   },
   "outputs": [
    {
     "name": "stdout",
     "output_type": "stream",
     "text": [
      "Data scaled successfully using StandardScaler.\n"
     ]
    }
   ],
   "source": [
    "X_train, X_test, y_train, y_test = train_test_split(\n",
    "    X, y, test_size=0.3, random_state=42\n",
    ")\n",
    "\n",
    "# Feature Scaling (Crucial for Linear Regression, Ridge, and Lasso)\n",
    "scaler = StandardScaler()\n",
    "X_train_scaled = scaler.fit_transform(X_train)\n",
    "X_test_scaled = scaler.transform(X_test)\n",
    "\n",
    "print(\"Data scaled successfully using StandardScaler.\")"
   ]
  },
  {
   "cell_type": "markdown",
   "id": "99540c48",
   "metadata": {
    "papermill": {
     "duration": 0.002973,
     "end_time": "2025-10-29T13:22:48.459844",
     "exception": false,
     "start_time": "2025-10-29T13:22:48.456871",
     "status": "completed"
    },
    "tags": []
   },
   "source": [
    "#### Linear Regression, Ridge, and Lasso"
   ]
  },
  {
   "cell_type": "code",
   "execution_count": 4,
   "id": "ca1a018c",
   "metadata": {
    "execution": {
     "iopub.execute_input": "2025-10-29T13:22:48.467616Z",
     "iopub.status.busy": "2025-10-29T13:22:48.466602Z",
     "iopub.status.idle": "2025-10-29T13:22:48.578186Z",
     "shell.execute_reply": "2025-10-29T13:22:48.575274Z"
    },
    "papermill": {
     "duration": 0.120471,
     "end_time": "2025-10-29T13:22:48.583159",
     "exception": false,
     "start_time": "2025-10-29T13:22:48.462688",
     "status": "completed"
    },
    "tags": []
   },
   "outputs": [
    {
     "name": "stdout",
     "output_type": "stream",
     "text": [
      "--- Linear and Regularized Regression Results ---\n",
      "\n",
      "Linear Regression:\n",
      "  R-squared (R2): 0.5958\n",
      "  RMSE: 0.7284\n",
      "\n",
      "Ridge (L2):\n",
      "  R-squared (R2): 0.5958\n",
      "  RMSE: 0.7284\n",
      "\n",
      "Lasso (L1):\n",
      "  R-squared (R2): 0.5977\n",
      "  RMSE: 0.7266\n",
      "\n",
      "Lasso (L1) Non-Zero Coefficients: 7 (out of 8)\n"
     ]
    }
   ],
   "source": [
    "models = {\n",
    "    'Linear Regression': LinearRegression(),\n",
    "    'Ridge (L2)': Ridge(alpha=1.0, random_state=42), # alpha is the regularization strength\n",
    "    'Lasso (L1)': Lasso(alpha=0.01, random_state=42)\n",
    "}\n",
    "\n",
    "results = {}\n",
    "\n",
    "print(\"--- Linear and Regularized Regression Results ---\")\n",
    "\n",
    "for name, model in models.items():\n",
    "    # Fit models on scaled data\n",
    "    model.fit(X_train_scaled, y_train)\n",
    "    y_pred = model.predict(X_test_scaled)\n",
    "    \n",
    "    # Calculate metrics\n",
    "    mse = mean_squared_error(y_test, y_pred)\n",
    "    rmse = np.sqrt(mse)\n",
    "    r2 = r2_score(y_test, y_pred)\n",
    "    \n",
    "    results[name] = {'MSE': mse, 'RMSE': rmse, 'R2': r2}\n",
    "    \n",
    "    print(f\"\\n{name}:\")\n",
    "    print(f\"  R-squared (R2): {r2:.4f}\")\n",
    "    print(f\"  RMSE: {rmse:.4f}\")\n",
    "\n",
    "if 'Lasso (L1)' in models:\n",
    "    lasso_coef_count = np.sum(models['Lasso (L1)'].coef_ != 0)\n",
    "    print(f\"\\nLasso (L1) Non-Zero Coefficients: {lasso_coef_count} (out of {X.shape[1]})\")"
   ]
  },
  {
   "cell_type": "markdown",
   "id": "119b6a70",
   "metadata": {
    "papermill": {
     "duration": 0.006408,
     "end_time": "2025-10-29T13:22:48.600085",
     "exception": false,
     "start_time": "2025-10-29T13:22:48.593677",
     "status": "completed"
    },
    "tags": []
   },
   "source": [
    "#### Ensemble Regression Models"
   ]
  },
  {
   "cell_type": "code",
   "execution_count": 5,
   "id": "061e9bbd",
   "metadata": {
    "execution": {
     "iopub.execute_input": "2025-10-29T13:22:48.610453Z",
     "iopub.status.busy": "2025-10-29T13:22:48.610103Z",
     "iopub.status.idle": "2025-10-29T13:22:55.898406Z",
     "shell.execute_reply": "2025-10-29T13:22:55.897549Z"
    },
    "papermill": {
     "duration": 7.295545,
     "end_time": "2025-10-29T13:22:55.900077",
     "exception": false,
     "start_time": "2025-10-29T13:22:48.604532",
     "status": "completed"
    },
    "tags": []
   },
   "outputs": [
    {
     "name": "stdout",
     "output_type": "stream",
     "text": [
      "--- Ensemble Regression Results (Unscaled Data) ---\n",
      "\n",
      "Random Forest Regressor:\n",
      "  R-squared (R2): 0.7756\n",
      "  RMSE: 0.5427\n",
      "\n",
      "XGBoost Regressor:\n",
      "  R-squared (R2): 0.8203\n",
      "  RMSE: 0.4857\n"
     ]
    }
   ],
   "source": [
    "ensemble_models = {\n",
    "    'Random Forest Regressor': RandomForestRegressor(n_estimators=100, max_depth=10, random_state=42),\n",
    "    'XGBoost Regressor': XGBRegressor(n_estimators=100, learning_rate=0.1, max_depth=5, random_state=42)\n",
    "}\n",
    "\n",
    "# Note: Tree-based models are generally trained on unscaled data\n",
    "print(\"--- Ensemble Regression Results (Unscaled Data) ---\")\n",
    "\n",
    "for name, model in ensemble_models.items():\n",
    "    # Fit models on unscaled data\n",
    "    model.fit(X_train, y_train)\n",
    "    y_pred = model.predict(X_test)\n",
    "    \n",
    "    # Calculate metrics\n",
    "    mse = mean_squared_error(y_test, y_pred)\n",
    "    rmse = np.sqrt(mse)\n",
    "    r2 = r2_score(y_test, y_pred)\n",
    "    \n",
    "    results[name] = {'MSE': mse, 'RMSE': rmse, 'R2': r2}\n",
    "\n",
    "    print(f\"\\n{name}:\")\n",
    "    print(f\"  R-squared (R2): {r2:.4f}\")\n",
    "    print(f\"  RMSE: {rmse:.4f}\")"
   ]
  },
  {
   "cell_type": "markdown",
   "id": "8d98b8da",
   "metadata": {
    "papermill": {
     "duration": 0.003645,
     "end_time": "2025-10-29T13:22:55.907975",
     "exception": false,
     "start_time": "2025-10-29T13:22:55.904330",
     "status": "completed"
    },
    "tags": []
   },
   "source": [
    "#### Final Comparison and Visualization"
   ]
  },
  {
   "cell_type": "code",
   "execution_count": 6,
   "id": "50f66f60",
   "metadata": {
    "execution": {
     "iopub.execute_input": "2025-10-29T13:22:55.916710Z",
     "iopub.status.busy": "2025-10-29T13:22:55.915702Z",
     "iopub.status.idle": "2025-10-29T13:22:56.786940Z",
     "shell.execute_reply": "2025-10-29T13:22:56.785696Z"
    },
    "papermill": {
     "duration": 0.877,
     "end_time": "2025-10-29T13:22:56.788720",
     "exception": false,
     "start_time": "2025-10-29T13:22:55.911720",
     "status": "completed"
    },
    "tags": []
   },
   "outputs": [
    {
     "name": "stdout",
     "output_type": "stream",
     "text": [
      "\n",
      "--- Final Regression Model Comparison (R2 Sorted) ---\n",
      "|                         |    MSE |   RMSE |     R2 |\n",
      "|:------------------------|-------:|-------:|-------:|\n",
      "| XGBoost Regressor       | 0.2359 | 0.4857 | 0.8203 |\n",
      "| Random Forest Regressor | 0.2945 | 0.5427 | 0.7756 |\n",
      "| Lasso (L1)              | 0.528  | 0.7266 | 0.5977 |\n",
      "| Ridge (L2)              | 0.5305 | 0.7284 | 0.5958 |\n",
      "| Linear Regression       | 0.5306 | 0.7284 | 0.5958 |\n"
     ]
    },
    {
     "data": {
      "image/png": "[encoded data removed]",
      "text/plain": [
       "<Figure size 1000x600 with 1 Axes>"
      ]
     },
     "metadata": {},
     "output_type": "display_data"
    }
   ],
   "source": [
    "import matplotlib.pyplot as plt\n",
    "import seaborn as sns\n",
    "\n",
    "df_results = pd.DataFrame(results).T.sort_values(by='R2', ascending=False)\n",
    "\n",
    "print(\"\\n--- Final Regression Model Comparison (R2 Sorted) ---\")\n",
    "print(df_results.round(4).to_markdown())\n",
    "\n",
    "# Visualization of R-squared (R2) Score\n",
    "plt.figure(figsize=(10, 6))\n",
    "sns.barplot(x=df_results.index, y='R2', data=df_results, palette='coolwarm')\n",
    "plt.title('R-squared (R2) Comparison of Regression Models')\n",
    "plt.ylabel('R-squared Score')\n",
    "plt.xlabel('Model')\n",
    "plt.xticks(rotation=45, ha='right')\n",
    "plt.ylim(df_results['R2'].min() - 0.05, 1.0)\n",
    "plt.tight_layout()\n",
    "plt.show()\n",
    "\n",
    "# Interview Insight: R2 measures the proportion of variance in the dependent \n",
    "# variable that is predictable from the independent variables. \n",
    "# RMSE provides the average magnitude of the error in the original units of the target variable."
   ]
  }
 ],
 "metadata": {
  "kaggle": {
   "accelerator": "none",
   "dataSources": [],
   "dockerImageVersionId": 31153,
   "isGpuEnabled": false,
   "isInternetEnabled": true,
   "language": "python",
   "sourceType": "notebook"
  },
  "kernelspec": {
   "display_name": "Python 3",
   "language": "python",
   "name": "python3"
  },
  "language_info": {
   "codemirror_mode": {
    "name": "ipython",
    "version": 3
   },
   "file_extension": ".py",
   "mimetype": "text/x-python",
   "name": "python",
   "nbconvert_exporter": "python",
   "pygments_lexer": "ipython3",
   "version": "3.11.13"
  },
  "papermill": {
   "default_parameters": {},
   "duration": 19.229893,
   "end_time": "2025-10-29T13:22:57.614116",
   "environment_variables": {},
   "exception": null,
   "input_path": "__notebook__.ipynb",
   "output_path": "__notebook__.ipynb",
   "parameters": {},
   "start_time": "2025-10-29T13:22:38.384223",
   "version": "2.6.0"
  }
 },
 "nbformat": 4,
 "nbformat_minor": 5
}
